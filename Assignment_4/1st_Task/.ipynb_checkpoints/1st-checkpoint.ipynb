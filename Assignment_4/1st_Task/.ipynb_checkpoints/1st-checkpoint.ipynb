{
 "cells": [
  {
   "cell_type": "code",
   "execution_count": 23,
   "metadata": {},
   "outputs": [],
   "source": [
    "my_file = open(\"Test.txt\",'w+')\n",
    "my_file.write('hello world\\n' * 5)\n",
    "my_file.close()"
   ]
  },
  {
   "cell_type": "code",
   "execution_count": 24,
   "metadata": {},
   "outputs": [
    {
     "data": {
      "text/plain": [
       "'hello world\\nhello world\\nhello world\\nhello world\\nhello world\\n'"
      ]
     },
     "execution_count": 24,
     "metadata": {},
     "output_type": "execute_result"
    }
   ],
   "source": [
    "my_file = open(\"Test.txt\",'r+')\n",
    "my_file.read()"
   ]
  },
  {
   "cell_type": "code",
   "execution_count": 25,
   "metadata": {},
   "outputs": [
    {
     "data": {
      "text/plain": [
       "60"
      ]
     },
     "execution_count": 25,
     "metadata": {},
     "output_type": "execute_result"
    }
   ],
   "source": [
    "my_file.seek(0)\n",
    "my_file.write(my_file.read().upper())\n"
   ]
  },
  {
   "cell_type": "code",
   "execution_count": 26,
   "metadata": {},
   "outputs": [
    {
     "name": "stdout",
     "output_type": "stream",
     "text": [
      "hello world\n",
      "\n"
     ]
    },
    {
     "data": {
      "text/plain": [
       "['hello world\\n',\n",
       " 'hello world\\n',\n",
       " 'Hello world\\n',\n",
       " 'hello world\\n',\n",
       " 'hello world\\n',\n",
       " 'HELLO WORLD\\n',\n",
       " 'HELLO WORLD\\n',\n",
       " 'HELLO WORLD\\n',\n",
       " 'HELLO WORLD\\n',\n",
       " 'HELLO WORLD\\n']"
      ]
     },
     "execution_count": 26,
     "metadata": {},
     "output_type": "execute_result"
    }
   ],
   "source": [
    "my_file.seek(0)\n",
    "text = my_file.readlines()\n",
    "print(text[2])\n",
    "text[2] = text[2].capitalize()\n",
    "my_file = open(\"Test.txt\",'w+')\n",
    "my_file.writelines(text)\n",
    "text"
   ]
  },
  {
   "cell_type": "code",
   "execution_count": 27,
   "metadata": {},
   "outputs": [
    {
     "name": "stdout",
     "output_type": "stream",
     "text": [
      "hello world\n",
      "\n",
      "hello world\n",
      "\n",
      "Hello world\n",
      "\n",
      "hello world\n",
      "\n",
      "hello world\n",
      "\n",
      "HELLO WORLD\n",
      "\n",
      "HELLO WORLD\n",
      "\n",
      "HELLO WORLD\n",
      "\n",
      "HELLO WORLD\n",
      "\n",
      "HELLO WORLD\n",
      "\n",
      "I Love python\n"
     ]
    }
   ],
   "source": [
    "with open(\"Test.txt\",'a+') as my_file :\n",
    "    my_file.write('I Love python')\n",
    "    my_file.seek(0)\n",
    "    for line in my_file:\n",
    "        print(line)"
   ]
  }
 ],
 "metadata": {
  "kernelspec": {
   "display_name": "Python 3",
   "language": "python",
   "name": "python3"
  },
  "language_info": {
   "codemirror_mode": {
    "name": "ipython",
    "version": 3
   },
   "file_extension": ".py",
   "mimetype": "text/x-python",
   "name": "python",
   "nbconvert_exporter": "python",
   "pygments_lexer": "ipython3",
   "version": "3.7.6"
  }
 },
 "nbformat": 4,
 "nbformat_minor": 4
}
