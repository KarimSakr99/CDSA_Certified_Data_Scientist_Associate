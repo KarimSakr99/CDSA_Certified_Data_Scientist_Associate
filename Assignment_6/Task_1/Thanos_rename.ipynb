{
 "metadata": {
  "language_info": {
   "codemirror_mode": {
    "name": "ipython",
    "version": 3
   },
   "file_extension": ".py",
   "mimetype": "text/x-python",
   "name": "python",
   "nbconvert_exporter": "python",
   "pygments_lexer": "ipython3",
   "version": "3.8.5-final"
  },
  "orig_nbformat": 2,
  "kernelspec": {
   "name": "python3",
   "display_name": "Python 3.8.5 64-bit (conda)",
   "metadata": {
    "interpreter": {
     "hash": "ed225720166559e7176d3793db16a2fd8d295f725007103b21ac3099d2a89ee8"
    }
   }
  }
 },
 "nbformat": 4,
 "nbformat_minor": 2,
 "cells": [
  {
   "source": [
    "# Thanos_Rename"
   ],
   "cell_type": "markdown",
   "metadata": {}
  },
  {
   "source": [
    "### importing modules"
   ],
   "cell_type": "markdown",
   "metadata": {}
  },
  {
   "cell_type": "code",
   "execution_count": 1,
   "metadata": {},
   "outputs": [],
   "source": [
    "import string\n",
    "import os\n",
    "import random"
   ]
  },
  {
   "source": [
    "### access the universe"
   ],
   "cell_type": "markdown",
   "metadata": {}
  },
  {
   "cell_type": "code",
   "execution_count": 2,
   "metadata": {},
   "outputs": [
    {
     "output_type": "execute_result",
     "data": {
      "text/plain": [
       "['cover001.png',\n",
       " 'cover002.png',\n",
       " 'cover003.png',\n",
       " 'cover004.png',\n",
       " 'cover005.png',\n",
       " 'cover006.png',\n",
       " 'cover007.png',\n",
       " 'cover008.png',\n",
       " 'cover009.png',\n",
       " 'cover010.png',\n",
       " 'cover011.png',\n",
       " 'cover012.png',\n",
       " 'cover013.png',\n",
       " 'cover014.png',\n",
       " 'cover015.png',\n",
       " 'cover016.png',\n",
       " 'cover017.png',\n",
       " 'cover018.png',\n",
       " 'cover019.png',\n",
       " 'cover020.png',\n",
       " 'cover021.png',\n",
       " 'cover022.png',\n",
       " 'cover023.png',\n",
       " 'cover024.png',\n",
       " 'cover025.png',\n",
       " 'cover026.png',\n",
       " 'cover027.png',\n",
       " 'cover028.png',\n",
       " 'cover029.png',\n",
       " 'cover030.png',\n",
       " 'cover031.png',\n",
       " 'cover032.png',\n",
       " 'cover033.png',\n",
       " 'cover034.png',\n",
       " 'cover035.png',\n",
       " 'cover036.png',\n",
       " 'cover037.png',\n",
       " 'cover038.png',\n",
       " 'cover039.png',\n",
       " 'cover040.png',\n",
       " 'cover041.png',\n",
       " 'cover042.png',\n",
       " 'cover043.png',\n",
       " 'cover044.png',\n",
       " 'cover045.png',\n",
       " 'cover046.png',\n",
       " 'cover047.png',\n",
       " 'cover048.png',\n",
       " 'cover049.png',\n",
       " 'cover050.png']"
      ]
     },
     "metadata": {},
     "execution_count": 2
    }
   ],
   "source": [
    "universe = os.listdir('./universe')\n",
    "universe"
   ]
  },
  {
   "source": [
    "### creating a super random name"
   ],
   "cell_type": "markdown",
   "metadata": {}
  },
  {
   "cell_type": "code",
   "execution_count": 3,
   "metadata": {},
   "outputs": [],
   "source": [
    "def rand_name():    \n",
    "    random_name = ''.join(random.choice(string.ascii_letters) for i in range(random.randint(1,10)))\n",
    "    # for num in range(random.randint(1,10)):\n",
    "    #     random_name += random.choice(string.ascii_letters)\n",
    "    random_name += (str(random.randint(100,500))+ '.png')\n",
    "    return random_name"
   ]
  },
  {
   "source": [
    "### applying random renaming for random choices"
   ],
   "cell_type": "markdown",
   "metadata": {}
  },
  {
   "cell_type": "code",
   "execution_count": 4,
   "metadata": {},
   "outputs": [],
   "source": [
    "for victims in range(len(universe)):\n",
    "    random_victim = random.choice(universe)\n",
    "    os.rename(f'./universe/{random_victim}',f'./universe/{rand_name()}')\n",
    "    universe.remove(random_victim)"
   ]
  },
  {
   "source": [
    "### showing changes"
   ],
   "cell_type": "markdown",
   "metadata": {}
  },
  {
   "cell_type": "code",
   "execution_count": 5,
   "metadata": {},
   "outputs": [
    {
     "output_type": "execute_result",
     "data": {
      "text/plain": [
       "['aeDJs489.png',\n",
       " 'aTc218.png',\n",
       " 'bnZ500.png',\n",
       " 'CjMNLKG372.png',\n",
       " 'DBXkVACNXU371.png',\n",
       " 'dF325.png',\n",
       " 'eqzZFvGRza288.png',\n",
       " 'es158.png',\n",
       " 'ftFp493.png',\n",
       " 'gKIHyQg279.png',\n",
       " 'Gol255.png',\n",
       " 'gpCA226.png',\n",
       " 'HeRaCw246.png',\n",
       " 'HJtWrC239.png',\n",
       " 'HN189.png',\n",
       " 'HrzGoa287.png',\n",
       " 'Hy392.png',\n",
       " 'hyxoLZ208.png',\n",
       " 'ihAeaR155.png',\n",
       " 'jQI110.png',\n",
       " 'KYkSierc341.png',\n",
       " 'LNaoPqfJ158.png',\n",
       " 'mOhYEp223.png',\n",
       " 'MOXUZ308.png',\n",
       " 'NXQSr287.png',\n",
       " 'ODIfYhS415.png',\n",
       " 'p450.png',\n",
       " 'ph341.png',\n",
       " 'pUvyL197.png',\n",
       " 'qfkvf187.png',\n",
       " 'QHqvpfsOjI397.png',\n",
       " 'RaWIw353.png',\n",
       " 'rbad428.png',\n",
       " 'RnSRChEQF319.png',\n",
       " 'rPIMRrBSX401.png',\n",
       " 'S402.png',\n",
       " 'tEFnZDeIe403.png',\n",
       " 'TPJTuy458.png',\n",
       " 'u190.png',\n",
       " 'UQWRws374.png',\n",
       " 'vb408.png',\n",
       " 'vyvl348.png',\n",
       " 'WfrQWnRl475.png',\n",
       " 'wfuqQB363.png',\n",
       " 'WvIO275.png',\n",
       " 'xQjIN233.png',\n",
       " 'Y485.png',\n",
       " 'yJTzEfP325.png',\n",
       " 'Z334.png',\n",
       " 'zMvdEedk318.png']"
      ]
     },
     "metadata": {},
     "execution_count": 5
    }
   ],
   "source": [
    "universe = os.listdir('./universe')\n",
    "universe"
   ]
  }
 ]
}